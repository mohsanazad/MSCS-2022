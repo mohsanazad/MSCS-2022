{
  "nbformat": 4,
  "nbformat_minor": 0,
  "metadata": {
    "colab": {
      "provenance": [],
      "authorship_tag": "ABX9TyMTXS3FtdVCQEHtN3IVjSk7",
      "include_colab_link": true
    },
    "kernelspec": {
      "name": "python3",
      "display_name": "Python 3"
    },
    "language_info": {
      "name": "python"
    }
  },
  "cells": [
    {
      "cell_type": "markdown",
      "metadata": {
        "id": "view-in-github",
        "colab_type": "text"
      },
      "source": [
        "<a href=\"https://colab.research.google.com/github/mohsanazad/MSCS-2022/blob/main/Smester-1/Advance%20Operating%20System/Advance_OS.ipynb\" target=\"_parent\"><img src=\"https://colab.research.google.com/assets/colab-badge.svg\" alt=\"Open In Colab\"/></a>"
      ]
    },
    {
      "cell_type": "markdown",
      "source": [
        "# **Chepter 3**\n",
        "**Excersice 3.1**"
      ],
      "metadata": {
        "id": "0pnNVmE3_qFO"
      }
    },
    {
      "cell_type": "code",
      "source": [
        "a_azad = \"Heloo Mohsan Azad\"\n",
        "print(a_azad)"
      ],
      "metadata": {
        "colab": {
          "base_uri": "https://localhost:8080/"
        },
        "id": "RUZMzA7C_zH4",
        "outputId": "f4db61b3-2e0b-4437-a09b-b9cd93cf2bd5"
      },
      "execution_count": 2,
      "outputs": [
        {
          "output_type": "stream",
          "name": "stdout",
          "text": [
            "Heloo Mohsan Azad\n"
          ]
        }
      ]
    }
  ]
}